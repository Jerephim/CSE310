{
  "cells": [
    {
      "cell_type": "markdown",
      "metadata": {
        "id": "_Mr3AvSgSswx"
      },
      "source": [
        "# Homework 3 - Sets"
      ]
    },
    {
      "cell_type": "markdown",
      "metadata": {
        "id": "w1t0weuGbbhA"
      },
      "source": [
        "**Instructions:** Complete the exercises below.\n",
        "\n",
        "1. Make a copy of this Colab Notebook using **`File -> Save a copy in Drive`**.\n",
        "\n",
        "2. Answer the exercise questions below. Type your answers to each question by double-clicking on **`Your Answer`** and typing your response.\n",
        "\n",
        "    Note that you can use any combination of plain text, Markdown, or LaTeX. As a last resort, you can simply take a picture of your handwritten work and upload it to an answer cell below.\n",
        "\n",
        "3. To submit your work, turn in the URL for your Colab notebook by clicking \"Share\" then \"Copy Link\"."
      ]
    },
    {
      "cell_type": "markdown",
      "metadata": {
        "id": "bEsUKV6DbbhB"
      },
      "source": [
        "**Note**:\n",
        "Sample solutions are provided in order to help you **learn**. The purpose of these exercises is not to simply turn in the answers, but to take the time and effort to learn and understand the material. You are encouraged to work the problems first, then when you are satisfied that you have the correct answer, look at the sample solution and compare it with yours."
      ]
    },
    {
      "cell_type": "markdown",
      "metadata": {
        "id": "8Y3-FEGlnfei"
      },
      "source": [
        "As you complete the problems below, you may use Python whenever you can think of a way it could help you answer the question."
      ]
    },
    {
      "cell_type": "markdown",
      "metadata": {
        "id": "4IDGnKT6nfei"
      },
      "source": [
        "### Exercise 3.1"
      ]
    },
    {
      "cell_type": "markdown",
      "metadata": {
        "id": "w6MoOkYLnfej"
      },
      "source": [
        "List four elements of each of the following sets:\n",
        "\n",
        "1. $\\{x \\in \\mathbb{Z^+} : x - 1 \\texttt{ is a multiple of 7 } \\}$\n",
        "2. $\\{x : x \\texttt{ is a fruit and its skin is normally eaten }\\}$\n",
        "3. $\\{x \\in \\mathbb{Q} : \\frac{1}{x} \\in \\mathbb{Z}\\}$\n",
        "4. $\\{2n: n\\in\\mathbb{Z}, n < 0\\}$\n",
        "5. $\\{s: s=1+2+\\dots+n \\texttt{ for some } n \\in \\mathbb{Z^+}\\}$\n",
        "\n",
        "Question adapted from [Applied Discrete Structures](https://discretemath.org/) by Alan Doerr & Kenneth Levasseur which is licensed under a [Creative Commons Attribution-NonCommercial-ShareAlike 3.0 United States License](http://creativecommons.org/licenses/by-nc-sa/3.0/us/)."
      ]
    },
    {
      "cell_type": "markdown",
      "metadata": {
        "id": "gSFYT4EHbbhF"
      },
      "source": [
        "#### Your Answer:"
      ]
    },
    {
      "cell_type": "code",
      "source": [],
      "metadata": {
        "id": "3539xUDkoctg"
      },
      "execution_count": null,
      "outputs": []
    },
    {
      "cell_type": "markdown",
      "source": [
        "1. {8, 15, 22, 29}\n",
        "2. {apple, grape, pear, plum}\n",
        "3. {1, 1/2, 1/3, 1/4}\n",
        "4. {−2, −4, −6, −8}\n",
        "5. {1, 3, 6, 10}"
      ],
      "metadata": {
        "id": "pIRBSbr2odS_"
      }
    },
    {
      "cell_type": "markdown",
      "metadata": {
        "id": "--4KFIvDnfej"
      },
      "source": [
        "### Exercise 3.2"
      ]
    },
    {
      "cell_type": "markdown",
      "metadata": {
        "id": "q2CQg_U7nfej"
      },
      "source": [
        "Let $A = \\{0,2,3\\}$, $B = \\{2,3\\}$, $C=\\{1,5,9\\}$, and the universal set $U=\\{0,1,2,\\dots,9\\}$.\n",
        "\n",
        "Determine:\n",
        "\n",
        "1. $A \\cap B$\n",
        "2. $A \\cup B$\n",
        "3. $B \\cup A$\n",
        "4. $A \\cup C$\n",
        "5. $A - B$\n",
        "6. $B - A$\n",
        "7. $\\overline A$\n",
        "8. $\\overline C$\n",
        "9. $A \\cap C$\n",
        "10. $A \\oplus B$\n",
        "\n",
        "\n",
        "\n",
        "Question adapted from [Applied Discrete Structures](https://discretemath.org/) by Alan Doerr & Kenneth Levasseur which is licensed under a [Creative Commons Attribution-NonCommercial-ShareAlike 3.0 United States License](http://creativecommons.org/licenses/by-nc-sa/3.0/us/)."
      ]
    },
    {
      "cell_type": "markdown",
      "metadata": {
        "id": "Fu2BPDvTnfek"
      },
      "source": [
        "#### Your Answer:\n",
        "1. {2, 3}\n",
        "2. {0, 2, 3}\n",
        "3. {0, 2, 3}\n",
        "4. {0, 1, 2, 3, 5, 9}\n",
        "5. {0}\n",
        "6. ∅\n",
        "7. {1, 4, 5, 6, 7, 8, 9}\n",
        "8. {0, 2, 3, 4, 6, 7, 8}\n",
        "9. ∅\n",
        "10. {0}"
      ]
    },
    {
      "cell_type": "markdown",
      "metadata": {
        "id": "3KuEDe6qAZqG"
      },
      "source": [
        "### Exercise 3.3"
      ]
    },
    {
      "cell_type": "markdown",
      "metadata": {
        "id": "CYE2_bHYAZqG"
      },
      "source": [
        "Python sets are similar to mathematical sets and include a number of methods and operators for working with sets. Note that sets in Python are unordered, so we cannot access elements by position and when displaying sets, no order is guaranteed.\n",
        "\n",
        "Python sets are created similarly to Python lists, but use the \"{\" and \"}\" rather than \"[\" and \"]\".\n",
        "\n",
        "Here are some examples of working with Python sets:"
      ]
    },
    {
      "cell_type": "code",
      "execution_count": null,
      "metadata": {
        "id": "lk8MTyKGnfek"
      },
      "outputs": [],
      "source": [
        "A = {2, 3, 4, 7, 9} # Create a set A\n",
        "B = {1, 5, 8} # Create a set B\n",
        "C = {3, 7} # Create a set C\n",
        "D = set() # Create an empty set D\n",
        "\n",
        "print('A: ', A)\n",
        "print('B: ', B)\n",
        "print('C: ', C)\n",
        "print('D: ', D, '# Note \"set()\" indicates the empty set')\n",
        "\n",
        "# Use set methods and operators\n",
        "print('A ∪ B:', A.union(B))\n",
        "print('A ∪ B:', A | B)  # The | operator works for set union\n",
        "print('A ∩ B:', A.intersection(B))\n",
        "print('A ∩ B:', A & B)  # The & operator works for set intersection\n",
        "print('A - B:', A.difference(B))\n",
        "print('A - B:', A - B)  # The - operator works for set difference\n",
        "print('C ⊆ A:', C.issubset(A))\n",
        "print('C ⊆ A:', C <= A) # The <= and < operators work for subset and proper subset\n",
        "print('C ⊂ A:', C < A)  # proper subset\n",
        "\n",
        "# Sets can contain items other than numbers\n",
        "E = {'adam', 'bob', 'carol'}\n",
        "F = {'bob', 'dave', 'eve'}\n",
        "print('E:', E)\n",
        "print('F:', F)\n",
        "print('E ∪ F:', E.union(F))\n",
        "print('E ∩ F:', E.intersection(F))\n",
        "\n",
        "# Determine membership in a set using 'in'\n",
        "print('Is \"adam\" a member of E? ', 'adam' in E)\n",
        "\n",
        "# Add or remove items from a set\n",
        "E.add('dave')\n",
        "E.discard('bob')\n",
        "print('Updated E:', E)\n",
        "\n",
        "# Create a set from something else\n",
        "G = set('ABCDEFG') # Create a set from a string\n",
        "H = set(['X', 'Y', 'Z']) # Create a set from a list\n",
        "print('G: ', G)\n",
        "print('H: ', H)\n"
      ]
    },
    {
      "cell_type": "markdown",
      "metadata": {
        "id": "ZNYDgelUnfel"
      },
      "source": [
        "#### Use Python to answer these questions from Exercise 3.2 and repeated here:\n",
        "\n",
        "Let $A = \\{0,2,3\\}$, $B = \\{2,3\\}$, $C=\\{1,5,9\\}$, and the universal set $U=\\{0,1,2,\\dots,9\\}$.\n",
        "\n",
        "Determine:\n",
        "\n",
        "1. $A \\cap B$\n",
        "2. $A \\cup B$\n",
        "3. $B \\cup A$\n",
        "4. $A \\cup C$\n",
        "5. $A - B$\n",
        "6. $B - A$\n",
        "7. $\\overline A$\n",
        "8. $\\overline C$\n",
        "9. $A \\cap C$\n",
        "10. $A \\oplus B$"
      ]
    },
    {
      "cell_type": "markdown",
      "metadata": {
        "id": "Om9G5cCfnfel"
      },
      "source": [
        "#### Your Answer:"
      ]
    },
    {
      "cell_type": "code",
      "execution_count": 3,
      "metadata": {
        "id": "_HV0DgSOnfel",
        "outputId": "67f9edc1-2b72-44cd-f13b-c29ef18f5d48",
        "colab": {
          "base_uri": "https://localhost:8080/"
        }
      },
      "outputs": [
        {
          "output_type": "stream",
          "name": "stdout",
          "text": [
            "1. {2, 3}\n",
            "2. {0, 2, 3}\n",
            "3. {0, 2, 3}\n",
            "4. {0, 1, 2, 3, 5, 9}\n",
            "5. {0}\n",
            "6. set()\n",
            "7. {1, 4, 5, 6, 7, 8, 9}\n",
            "8. {0, 2, 3, 4, 6, 7, 8}\n",
            "9. set()\n",
            "10. {0}\n"
          ]
        }
      ],
      "source": [
        "# Fill in your code here\n",
        "\n",
        "A = {0, 2, 3}\n",
        "B = {2, 3}\n",
        "C = {1, 5, 9}\n",
        "U = set(range(10))\n",
        "\n",
        "print(\"1.\", A & B)\n",
        "\n",
        "print(\"2.\", A | B)\n",
        "\n",
        "print(\"3.\", B | A)\n",
        "\n",
        "print(\"4.\", A | C)\n",
        "\n",
        "print(\"5.\", A - B)\n",
        "\n",
        "print(\"6.\", B - A)\n",
        "\n",
        "print(\"7.\", U - A)\n",
        "\n",
        "print(\"8.\", U - C)\n",
        "\n",
        "print(\"9.\", A & C)\n",
        "\n",
        "print(\"10.\", A ^ B)\n"
      ]
    },
    {
      "cell_type": "markdown",
      "metadata": {
        "id": "p2Rt9okAnfel"
      },
      "source": [
        "### Exercise 3.4"
      ]
    },
    {
      "cell_type": "markdown",
      "metadata": {
        "id": "Dw2W3vlqnfel"
      },
      "source": [
        "#### Use Python to answer the following questions:\n",
        "\n",
        "Let $A$ be the set of letters in the English alphabet\n",
        "\n",
        "Let $B$ be the set of letters in the Hawaiian alphabet (Do some quick research to find this)\n",
        "\n",
        "1. What is the cardinality of the Hawaiian alphabet?\n",
        "1. Is the Hawaiian alphabet a **proper** subset of the English alphabet?\n",
        "1. What is the set intersection between A and B? What is the cardinality of the intersection?\n",
        "1. What is the set union between A and B? What is the cardinality of the union?\n",
        "1. What is the set difference between A and B? What is the cardinality of the difference?\n",
        "1. What is the symmetric difference between A and B? What is the cardinality of this set?\n",
        "1. Is the symmetric difference the same as the difference? Why or why not?\n"
      ]
    },
    {
      "cell_type": "markdown",
      "metadata": {
        "id": "yHJSyH1Pnfel"
      },
      "source": [
        "#### Your Answer:"
      ]
    },
    {
      "cell_type": "code",
      "source": [
        "import string\n",
        "\n",
        "A = set(string.ascii_lowercase)\n",
        "\n",
        "B = set(\"aehiklmnopuw\")\n",
        "\n",
        "print(\"1.\", len(B))\n",
        "\n",
        "print(\"2.\", B < A)\n",
        "\n",
        "intersection = A & B\n",
        "print(\"3. Int \", intersection)\n",
        "print(\"   Card \", len(intersection))\n",
        "\n",
        "union = A | B\n",
        "print(\"4. Int\", union)\n",
        "print(\"   Card \", len(union))\n",
        "\n",
        "diff = A - B\n",
        "print(\"5. Int \", diff)\n",
        "print(\"   Card \", len(diff))\n",
        "\n",
        "sym_diff = A ^ B\n",
        "print(\"6. Int \", sym_diff)\n",
        "print(\"   Card \", len(sym_diff))\n",
        "\n",
        "print(\"7. NO\")"
      ],
      "metadata": {
        "id": "rKWiO3A_voCc",
        "outputId": "e64ef6be-6b64-43d5-de04-b134bfe5313e",
        "colab": {
          "base_uri": "https://localhost:8080/"
        }
      },
      "execution_count": 11,
      "outputs": [
        {
          "output_type": "stream",
          "name": "stdout",
          "text": [
            "1. 12\n",
            "2. True\n",
            "3. Int  {'w', 'h', 'i', 'u', 'n', 'e', 'm', 'p', 'o', 'k', 'l', 'a'}\n",
            "   Card  12\n",
            "4. Int {'y', 'p', 'z', 'q', 'v', 'w', 'g', 'u', 'e', 'd', 'j', 'o', 'l', 'r', 'f', 'b', 'i', 'c', 'n', 'm', 'h', 'a', 't', 'x', 's', 'k'}\n",
            "   Card  26\n",
            "5. Int  {'r', 'y', 'v', 'f', 'g', 'b', 't', 'x', 'c', 's', 'd', 'j', 'z', 'q'}\n",
            "   Card  14\n",
            "6. Int  {'r', 'y', 'f', 'b', 'c', 'z', 'q', 'v', 't', 'x', 's', 'd', 'j', 'g'}\n",
            "   Card  14\n",
            "7. NO\n"
          ]
        }
      ]
    },
    {
      "cell_type": "code",
      "execution_count": null,
      "metadata": {
        "id": "i9QWkIuDnfel"
      },
      "outputs": [],
      "source": [
        "# Fill in your code here\n",
        "\n"
      ]
    },
    {
      "cell_type": "markdown",
      "metadata": {
        "id": "Fv4cGZL5nfel"
      },
      "source": [
        "### Exercise 3.5"
      ]
    },
    {
      "cell_type": "markdown",
      "metadata": {
        "id": "yL677l4fnfel"
      },
      "source": [
        "Python list comprehensions (and set comprehensions) are similar to set builder notation. For example, the set of the first twenty even numbers is represented using set builder notation as:\n",
        "\n",
        "$S = \\{x \\in \\mathbb{Z}: x = 2n \\texttt{ and } 0 \\le n \\le 19 \\}$\n",
        "\n",
        "This set could be created in Python like this:"
      ]
    },
    {
      "cell_type": "code",
      "execution_count": null,
      "metadata": {
        "id": "EuePrN0Vnfel"
      },
      "outputs": [],
      "source": [
        "S = {2*n for n in range(20)}\n",
        "print(S)"
      ]
    },
    {
      "cell_type": "markdown",
      "metadata": {
        "id": "73oFVU1infel"
      },
      "source": [
        "We can also include an \"if\" statement in the Python list comprehension to add additional filters when building the set.\n",
        "\n",
        "<!-- The set $S = \\{x \\in \\mathbb{Z}: x = 2n \\texttt{ and } 0 \\le n \\le 19 \\texttt{ and } x \\texttt{ is a multiple of 3 } \\}$ -->\n",
        "\n",
        "For example, to build the set of odd integers between 1 and 20, the set builder notation would be\n",
        "\n",
        "$\\{x \\in \\mathbb{Z}: x \\le 20 \\texttt{ and } x \\texttt{ is odd }\\}$\n",
        "\n",
        "In Python:"
      ]
    },
    {
      "cell_type": "code",
      "execution_count": null,
      "metadata": {
        "id": "K1DbdCJ7nfel"
      },
      "outputs": [],
      "source": [
        "print({x for x in range(21) if x%2})"
      ]
    },
    {
      "cell_type": "markdown",
      "metadata": {
        "id": "C4YsFylfnfem"
      },
      "source": [
        "Using Python list (or set) comprehensions, create the following sets. Assume the domain is $\\mathbb{Z}$.\n",
        "\n",
        "When printing the result, use `sorted` to convert the sets to a sorted list to make it easier to verify your result.\n",
        "\n",
        "1. The first 100 multiples of 3.\n",
        "2. The perfect squares from 1 to 100. (An integer $x$ is a perfect square if there is an integer $y$ such that $x = y^2$ )\n",
        "3. All integers whose absolute value is less than 5.\n",
        "4. The odd integers between -10 and 10.\n",
        "5. The integers between 0 and 100 that end in the digit 3 or 7."
      ]
    },
    {
      "cell_type": "markdown",
      "metadata": {
        "id": "yzs-ZvkSnfem"
      },
      "source": [
        "#### Your Answer:"
      ]
    },
    {
      "cell_type": "code",
      "execution_count": 17,
      "metadata": {
        "id": "jhLGk6HGnfem",
        "outputId": "166a65df-d4c3-4e27-dcd7-4d262f9f5cc0",
        "colab": {
          "base_uri": "https://localhost:8080/"
        }
      },
      "outputs": [
        {
          "output_type": "stream",
          "name": "stdout",
          "text": [
            "1. [3, 6, 9, 12, 15, 18, 21, 24, 27, 30, 33, 36, 39, 42, 45, 48, 51, 54, 57, 60, 63, 66, 69, 72, 75, 78, 81, 84, 87, 90, 93, 96, 99]\n",
            "2. [1, 4, 9, 16, 25, 36, 49, 64, 81, 100]\n",
            "3. [1, 2, 3, 4]\n",
            "4. [-9, -7, -5, -3, -1, 1, 3, 5, 7, 9]\n",
            "5. [3, 7, 13, 17, 23, 27, 33, 37, 43, 47, 53, 57, 63, 67, 73, 77, 83, 87, 93, 97]\n"
          ]
        }
      ],
      "source": [
        "multiples_of_3 = {n for n in range(3, 101, 3)}\n",
        "print(\"1.\", sorted(multiples_of_3))\n",
        "\n",
        "perfect_squares = {x for x in range(1, 101) if (x**0.5).is_integer()}\n",
        "print(\"2.\", sorted(perfect_squares))\n",
        "\n",
        "abs_less_than_5 = {x for x in range(1, 5)}\n",
        "print(\"3.\", sorted(abs_less_than_5))\n",
        "\n",
        "odd_between = {x for x in range(-10, 11) if x % 2 != 0}\n",
        "print(\"4.\", sorted(odd_between))\n",
        "\n",
        "ends_3_or_7 = {x for x in range(101) if x % 10 == 3 or x % 10 == 7}\n",
        "print(\"5.\", sorted(ends_3_or_7))\n",
        "\n",
        "\n"
      ]
    },
    {
      "cell_type": "markdown",
      "metadata": {
        "id": "YIOfgYGGnfem"
      },
      "source": [
        "### Exercise 3.6"
      ]
    },
    {
      "cell_type": "markdown",
      "metadata": {
        "id": "q7jWog5_nfem"
      },
      "source": [
        "Use Python set comprehensions to generate and display all the members of the following sets:\n",
        "\n",
        "1. $\\{\\frac{1}{n}: n \\in \\{2,4,8,16\\}\\}$\n",
        "2. $\\{n^2 : n \\in \\{-2, -1, 0, 1, 2\\}\\}$\n",
        "3. $\\{n \\in \\mathbb{Z^+} : n \\text{ is a factor of } 24\\}$\n",
        "4. $\\{\\alpha \\in \\text{the English alphabet} : \\alpha \\text{ precedes F}\\}$\n",
        "\n",
        "Question adapted from [Applied Discrete Structures](https://discretemath.org/) by Alan Doerr & Kenneth Levasseur which is licensed under a [Creative Commons Attribution-NonCommercial-ShareAlike 3.0 United States License](http://creativecommons.org/licenses/by-nc-sa/3.0/us/)."
      ]
    },
    {
      "cell_type": "markdown",
      "metadata": {
        "id": "JFZw-8fOnfem"
      },
      "source": [
        "#### Your Answer:"
      ]
    },
    {
      "cell_type": "code",
      "execution_count": null,
      "metadata": {
        "id": "gpWNvbFjnfem"
      },
      "outputs": [],
      "source": [
        "# Fill in your code here\n",
        "reciprocals = {1/n for n in {2, 4, 8, 16}}\n",
        "print(\"1.\", reciprocals)\n",
        "\n",
        "squares = {n**2 for n in {-2, -1, 0, 1, 2}}\n",
        "print(\"2.\", squares)\n",
        "\n",
        "factors_of_24 = {n for n in range(1, 25) if 24 % n == 0}\n",
        "print(\"3.\", factors_of_24)\n",
        "\n",
        "import string\n",
        "before_F = {c for c in string.ascii_lowercase if c < 'f'}\n",
        "print(\"4.\", before_F)\n",
        "\n"
      ]
    },
    {
      "cell_type": "markdown",
      "metadata": {
        "id": "_0ujyNQdbbhJ"
      },
      "source": [
        "### Exercise 3.7"
      ]
    },
    {
      "cell_type": "markdown",
      "metadata": {
        "id": "tq8CyFLUMxoq"
      },
      "source": [
        "Let A and B be two sets of words:\n",
        "\n",
        "A = {'verve', 'vim', 'vigor'}\n",
        "\n",
        "B = {'butter', 'vinegar', 'pepper', 'vigor'}\n",
        "\n",
        "For each of the following set operations, give its resulting members as a set of strings. Use Python.\n",
        "\n",
        "1. The set of words that are in A $\\cup$ B; call this set C.\n",
        "2. The set of words that are in A $\\cap$ B; call this set D.\n",
        "3. The subset of set C of words that start with 'v'.\n",
        "4. The subset of set C of words that end with 'r'.\n",
        "5. The subset of set C of words that start with 'v' and end with 'r'.\n",
        "6. The subset of set D of words that have five letters.\n",
        "7. The subset of set D of words that have six letters."
      ]
    },
    {
      "cell_type": "markdown",
      "metadata": {
        "id": "zitactjFnfem"
      },
      "source": [
        "#### Your Answer:"
      ]
    },
    {
      "cell_type": "code",
      "execution_count": 23,
      "metadata": {
        "id": "tgvFIhaBnfem",
        "outputId": "ddb91205-46b2-4485-88e4-34b83eca3687",
        "colab": {
          "base_uri": "https://localhost:8080/"
        }
      },
      "outputs": [
        {
          "output_type": "stream",
          "name": "stdout",
          "text": [
            "1. {'butter', 'pepper', 'vinegar', 'verve', 'vigor', 'vim'}\n",
            "2. {'vigor'}\n",
            "3. {'verve', 'vigor', 'vim', 'vinegar'}\n",
            " {'vigor', 'butter', 'pepper', 'vinegar'}\n",
            "5. {'vigor', 'vinegar'}\n",
            "6. {'vigor'}\n",
            "7. set()\n"
          ]
        }
      ],
      "source": [
        "# Fill in your code here\n",
        "A = {'verve', 'vim', 'vigor'}\n",
        "B = {'butter', 'vinegar', 'pepper', 'vigor'}\n",
        "\n",
        "C = A | B\n",
        "print(\"1.\", C)\n",
        "\n",
        "D = A & B\n",
        "print(\"2.\", D)\n",
        "\n",
        "start_v = {w for w in C if w.startswith('v')}\n",
        "print(\"3.\", start_v)\n",
        "\n",
        "end_r = {w for w in C if w.endswith('r')}\n",
        "print(\"\", end_r)\n",
        "\n",
        "start_v_end_r = {w for w in C if w.startswith('v') and w.endswith('r')}\n",
        "print(\"5.\", start_v_end_r)\n",
        "\n",
        "five_letters = {w for w in D if len(w) == 5}\n",
        "print(\"6.\", five_letters)\n",
        "\n",
        "six_letters = {w for w in D if len(w) == 6}\n",
        "print(\"7.\", six_letters)\n",
        "\n"
      ]
    },
    {
      "cell_type": "markdown",
      "metadata": {
        "id": "tWpt07z8bbhB"
      },
      "source": [
        "### Exercise 3.8"
      ]
    },
    {
      "cell_type": "markdown",
      "metadata": {
        "id": "MCAUgm9Knfem"
      },
      "source": [
        "Let $A = \\{0,2,3\\}$, $B=\\{2,3\\}$, $C = \\{1,4\\}$, and let the universal set $U = \\{0,1,2,3,4\\}$. List the elements of each of the following:\n",
        "\n",
        "1. $A \\times B$\n",
        "2. $B \\times A$\n",
        "3. $A \\times B \\times C$\n",
        "4. $U \\times \\emptyset$\n",
        "5. $A \\times \\overline A$\n",
        "6. $B^2$\n",
        "\n",
        "\n",
        "Question adapted from [Applied Discrete Structures](https://discretemath.org/) by Alan Doerr & Kenneth Levasseur which is licensed under a [Creative Commons Attribution-NonCommercial-ShareAlike 3.0 United States License](http://creativecommons.org/licenses/by-nc-sa/3.0/us/)."
      ]
    },
    {
      "cell_type": "markdown",
      "metadata": {
        "id": "JIVFRE_KbbhC"
      },
      "source": [
        "#### Your Answer:\n",
        "1. \\{(0, 3), (2, 3), (0, 2), (3, 3), (2, 2), (3, 2)\\} \\\\\n",
        "\n",
        "2. \\{(2, 0), (3, 0), (2, 3), (3, 3), (2, 2), (3, 2)\\} \\\\\n",
        "\n",
        "3. \\{(0, 2, 1), (0, 2, 4), (0, 3, 1), (0, 3, 4), (2, 2, 1), (2, 2, 4), (2, 3, 1), (2, 3, 4), (3, 2, 1), (3, 2, 4), (3, 3, 1), (3, 3, 4)\\} \\\\\n",
        "\n",
        "4. U x ∅ = ∅\n",
        "\n",
        "5. \\{(0, 1), (0, 4), (2, 1), (2, 4), (3, 1), (3, 4)\\} t{where } ∅ {A} = U - A = \\{1, 4\\} \\\\\n",
        "\n",
        "6. \\{(2, 3), (3, 2), (3, 3), (2, 2)\\}\n",
        "\n"
      ]
    },
    {
      "cell_type": "markdown",
      "metadata": {
        "id": "2HV_d6Ponfep"
      },
      "source": [
        "### Exercise 3.9"
      ]
    },
    {
      "cell_type": "markdown",
      "metadata": {
        "id": "hPmJx1zNnfep"
      },
      "source": [
        "Use Python to answer the following questions.\n",
        "\n",
        "1. List all the elements in the Cartesian Product, $A \\times B$, where\n",
        "\n",
        "    $A = \\{a,b,c,d,e,f\\}$ and $B = \\{0,1,2,3,4,5\\}$\n",
        "\n",
        "2. What is the cardinality of $A \\times B$?\n",
        "\n",
        "3. List all the elements in $C \\times C \\times C$, where $C = \\{0,1\\}$\n",
        "\n",
        "4. What is the cardinality of $C \\times C \\times C$?"
      ]
    },
    {
      "cell_type": "markdown",
      "metadata": {
        "id": "atRSKnupnfep"
      },
      "source": [
        "#### Your Answer:\n",
        "\n"
      ]
    },
    {
      "cell_type": "code",
      "source": [
        "A = {'a', 'b', 'c', 'd', 'e', 'f'}\n",
        "B = {0, 1, 2, 3, 4, 5}\n",
        "C = {0, 1}\n",
        "\n",
        "AxB = [(a, b) for a in A for b in B]\n",
        "\n",
        "card_AxB = len(AxB)\n",
        "\n",
        "CxCxC = [(x, y, z) for x in C for y in C for z in C]\n",
        "\n",
        "card_CxCxC = len(CxCxC)\n",
        "\n",
        "print(\"1. A × B =\", AxB)\n",
        "print(\"2. Cardinality of A × B =\", card_AxB)\n",
        "print(\"3. C × C × C =\", CxCxC)\n",
        "print(\"4. Cardinality of C × C × C =\", card_CxCxC)"
      ],
      "metadata": {
        "id": "VG3ikmAH6ILA",
        "outputId": "17131552-3441-4f95-d693-42c0dee9c416",
        "colab": {
          "base_uri": "https://localhost:8080/"
        }
      },
      "execution_count": 24,
      "outputs": [
        {
          "output_type": "stream",
          "name": "stdout",
          "text": [
            "1. A × B = [('e', 0), ('e', 1), ('e', 2), ('e', 3), ('e', 4), ('e', 5), ('d', 0), ('d', 1), ('d', 2), ('d', 3), ('d', 4), ('d', 5), ('f', 0), ('f', 1), ('f', 2), ('f', 3), ('f', 4), ('f', 5), ('b', 0), ('b', 1), ('b', 2), ('b', 3), ('b', 4), ('b', 5), ('c', 0), ('c', 1), ('c', 2), ('c', 3), ('c', 4), ('c', 5), ('a', 0), ('a', 1), ('a', 2), ('a', 3), ('a', 4), ('a', 5)]\n",
            "2. Cardinality of A × B = 36\n",
            "3. C × C × C = [(0, 0, 0), (0, 0, 1), (0, 1, 0), (0, 1, 1), (1, 0, 0), (1, 0, 1), (1, 1, 0), (1, 1, 1)]\n",
            "4. Cardinality of C × C × C = 8\n"
          ]
        }
      ]
    },
    {
      "cell_type": "markdown",
      "metadata": {
        "id": "fuo6oNxKnfep"
      },
      "source": [
        "### Exercise 3.10"
      ]
    },
    {
      "cell_type": "markdown",
      "metadata": {
        "id": "3vlcLLl-kzRf"
      },
      "source": [
        "Which pairs of the following sets are pairwise disjoint?\n",
        "1. The set of all even numbers.\n",
        "2. The set of all odd numbers.\n",
        "3. The set of all nonnegative powers of 2."
      ]
    },
    {
      "cell_type": "markdown",
      "metadata": {
        "id": "bURQWe-fnfeq"
      },
      "source": [
        "#### Your Answer:"
      ]
    },
    {
      "cell_type": "markdown",
      "metadata": {
        "id": "IMHczLMQlaSt"
      },
      "source": [
        "### Exercise 3.11"
      ]
    },
    {
      "cell_type": "markdown",
      "metadata": {
        "id": "FR2jAbMdnfeq"
      },
      "source": [
        "List all partitions of the set $A = \\{a,b,c\\}$.\n",
        "\n",
        "\n",
        "Question adapted from [Applied Discrete Structures](https://discretemath.org/) by Alan Doerr & Kenneth Levasseur which is licensed under a [Creative Commons Attribution-NonCommercial-ShareAlike 3.0 United States License](http://creativecommons.org/licenses/by-nc-sa/3.0/us/).\n"
      ]
    },
    {
      "cell_type": "markdown",
      "metadata": {
        "id": "iRX6sYjAbbhN"
      },
      "source": [
        "#### Your Answer:"
      ]
    },
    {
      "cell_type": "markdown",
      "metadata": {
        "id": "HCjgnJwTbbhN"
      },
      "source": [
        "----------------------\n",
        "## Sample Solutions\n",
        "\n",
        "**Note**:\n",
        "Sample solutions are provided in order to help you **learn**. The purpose of these exercises is not to simply turn in the answers, but to take the time and effort to learn and understand the material. You are encouraged to work the problems first, then when you are satisfied that you have the correct answer, look at the sample solution and compare it with yours."
      ]
    },
    {
      "cell_type": "markdown",
      "metadata": {
        "id": "lcXA5NO9nfeq"
      },
      "source": [
        "### Sample Solution 3.1"
      ]
    },
    {
      "cell_type": "markdown",
      "metadata": {
        "id": "_5mtAbPUnfeq"
      },
      "source": [
        "These answers are not unique.\n",
        "\n",
        "1. 8, 15, 22, 29\n",
        "2. apple, pear, peach, plum\n",
        "3. 1/2, 1/3, 1/4, 1/5\n",
        "4. -2, -4, -6, -8\n",
        "5. 6, 10, 15, 21\n"
      ]
    },
    {
      "cell_type": "markdown",
      "metadata": {
        "id": "gl4-I4EXnfeq"
      },
      "source": [
        "### Sample Solution 3.2"
      ]
    },
    {
      "cell_type": "markdown",
      "metadata": {
        "id": "d0ITOSzXnfeq"
      },
      "source": [
        "1. {2,3}\n",
        "2. {0,2,3}\n",
        "3. {0,2,3}\n",
        "4. {0,1,2,3,5,9}\n",
        "5. {0}\n",
        "6. {}\n",
        "7. {1,4,5,6,7,8,9}\n",
        "8. {0,2,3,4,6,7,8}\n",
        "9. {}\n",
        "10. {0}\n"
      ]
    },
    {
      "cell_type": "markdown",
      "metadata": {
        "id": "y_WqNyXGnfeq"
      },
      "source": [
        "### Sample Solution 3.3"
      ]
    },
    {
      "cell_type": "code",
      "execution_count": null,
      "metadata": {
        "id": "yglBT-UuAZqI"
      },
      "outputs": [],
      "source": [
        "A = {0,2,3}\n",
        "B = {2,3}\n",
        "C = {1,5,9}\n",
        "U = {0,1,2,3,4,5,6,7,8,9}\n",
        "\n",
        "print('1.', A & B)\n",
        "print('2.', A | B)\n",
        "print('3.', B | A)\n",
        "print('4.', A | C)\n",
        "print('5.', A - B)\n",
        "print('6.', B - A)\n",
        "print('7.', U - A)\n",
        "print('8.', U - C)\n",
        "print('9.', A & C)\n",
        "print('10.', A.symmetric_difference(B))\n",
        "print('10.', (A - B) | (B - A)) # Another way to do symmetric difference\n",
        "\n"
      ]
    },
    {
      "cell_type": "markdown",
      "metadata": {
        "id": "Io2Pq7UEnfeq"
      },
      "source": [
        "### Sample Solution 3.4"
      ]
    },
    {
      "cell_type": "code",
      "execution_count": null,
      "metadata": {
        "id": "FgD28jRJnfeq"
      },
      "outputs": [],
      "source": [
        "English_alphabet = set('ABCDEFGHIJKLMNOPQRSTUVWXYZ')\n",
        "Hawaiian_alphabet = set('AEIOUHKLMNPW')\n",
        "print('1.', len(Hawaiian_alphabet))\n",
        "print('2.', Hawaiian_alphabet.issubset(English_alphabet) and not Hawaiian_alphabet == English_alphabet)\n",
        "intersection = English_alphabet.intersection(Hawaiian_alphabet)\n",
        "print('3. Intersection: ', intersection, ' Cardinality: ', len(intersection))\n",
        "print('  ', intersection == Hawaiian_alphabet)\n",
        "print(\"   It's no surprise that the intersection is just the Hawaiian alphabet,\")\n",
        "print(\"   given that it's a proper subset of the English alphabet.\")\n",
        "print()\n",
        "union = English_alphabet.union(Hawaiian_alphabet)\n",
        "print('4. Union: ', union, ' Cardinality: ', len(union))\n",
        "difference = English_alphabet - Hawaiian_alphabet\n",
        "print('5. Difference: ', difference, ' Cardinality: ', len(difference))\n",
        "symmetric_difference = English_alphabet.symmetric_difference(Hawaiian_alphabet)\n",
        "print('6. Symmetric Difference ', symmetric_difference, ' Cardinality: ', len(symmetric_difference))\n",
        "print('7.', difference == symmetric_difference)\n",
        "print('''   This is true because the symmetric difference is all of the elements\n",
        "   that are in only one of the sets, but every element in the Hawaiian alphabet\n",
        "   is also in the English alphabet. So the symmetric difference is only those\n",
        "   letters in the English alphabet that are not also in the Hawaiian alphabet.\n",
        "''')"
      ]
    },
    {
      "cell_type": "markdown",
      "metadata": {
        "id": "6Cj3xxKbnfeq"
      },
      "source": [
        "### Sample Solution 3.5"
      ]
    },
    {
      "cell_type": "code",
      "execution_count": null,
      "metadata": {
        "id": "OpUrCGV5nfeq"
      },
      "outputs": [],
      "source": [
        "print('1.', sorted({3*n for n in range(101)}))\n",
        "print('2.', sorted({x**2 for x in range(1, 11)}))\n",
        "print('3.', sorted({x for x in range(-4, 5)}))\n",
        "print('4.', sorted({x for x in range(-10, 11) if x%2}))\n",
        "print('5.', sorted({x for x in range(101) if x%10 == 3 or x%10 == 7}))"
      ]
    },
    {
      "cell_type": "markdown",
      "metadata": {
        "id": "5TuH3S4unfeq"
      },
      "source": [
        "### Sample Solution 3.6"
      ]
    },
    {
      "cell_type": "code",
      "execution_count": null,
      "metadata": {
        "id": "82OWsDgdnfer"
      },
      "outputs": [],
      "source": [
        "print('1.', {1/n for n in [2,4,8,16]})\n",
        "print('2.', {n**2 for n in range(-2,3)})\n",
        "print('3.', {n for n in range(1, 24) if not 24 % n})\n",
        "print('4.', {a for a in 'ABCDEFGHIJKLMNOPQRSTUVWXYZ' if a < 'F'})"
      ]
    },
    {
      "cell_type": "markdown",
      "metadata": {
        "id": "bSCOJOKanfer"
      },
      "source": [
        "### Sample Solution 3.7"
      ]
    },
    {
      "cell_type": "code",
      "execution_count": null,
      "metadata": {
        "id": "QF919GqlMxos"
      },
      "outputs": [],
      "source": [
        "A = {'verve', 'vim', 'vigor'}\n",
        "print('A =', A)\n",
        "B = {'butter', 'vinegar', 'pepper', 'vigor'}\n",
        "print('B =', B)\n",
        "C = A.union(B)\n",
        "print('1. C =', C)\n",
        "D = A.intersection(B)\n",
        "print('2. D =', D)\n",
        "start_with_v = {word for word in C if word[0] == 'v'}\n",
        "print('3. start_with_v =', start_with_v)\n",
        "end_with_r = {word for word in C if word[-1:] == 'r'}\n",
        "print('4. end_with_r =', end_with_r)\n",
        "start_with_v_and_end_with_r = start_with_v.intersection(end_with_r)\n",
        "print('5. start_with_v_and_end_with_r =', start_with_v_and_end_with_r)\n",
        "subset_of_D_of_words_with_five_letters = {word for word in D if len(word) == 5}\n",
        "print('6. subset_of_D_of_words_with_five_letters =', subset_of_D_of_words_with_five_letters)\n",
        "subset_of_D_of_words_with_six_letters = {word for word in D if len(word) == 6}\n",
        "print('7. subset_of_D_of_words_with_six_letters =', subset_of_D_of_words_with_six_letters)"
      ]
    },
    {
      "cell_type": "markdown",
      "metadata": {
        "id": "vpz3gUo3nfer"
      },
      "source": [
        "### Sample Solution 3.8"
      ]
    },
    {
      "cell_type": "markdown",
      "metadata": {
        "id": "ueXsgNZ8nfer"
      },
      "source": [
        "1. $\\{(0,2), (0,3), (2,2), (2,3), (3,2), (3,3)\\}$\n",
        "2. $\\{(2,0), (2,2), (2,3), (3,0), (3,2), (3,3)\\}$\n",
        "3. $\\{(0,2,1), (0,2,4), (0,3,1), (0,3,4), (2,2,1), (2,2,4), (2,3,1), (2,3,4), (3,2,1), (3,2,4), (3,3,1), (3,3,4)\\}$\n",
        "4. $\\emptyset$\n",
        "5. $\\{(0,1), (0,4), (2,1), (2,4), (3,1), (3,4)\\}$\n",
        "6. $\\{(2,2), (2,3), (3,2), (3,3)\\}$"
      ]
    },
    {
      "cell_type": "code",
      "execution_count": null,
      "metadata": {
        "id": "hrWG77L_nfer"
      },
      "outputs": [],
      "source": [
        "# Using Python\n",
        "A = {0,2,3}\n",
        "B = {2,3}\n",
        "C = {1,4}\n",
        "U = {0,1,2,3,4}\n",
        "\n",
        "print('1.',{(a,b) for a in A for b in B})\n",
        "print('2.',{(b,a) for b in B for a in A})\n",
        "print('3.',{(a,b,c) for a in A for b in B for c in C})\n",
        "print('4.',{(u, x) for u in U for x in set()})\n",
        "print('5.',{(a,na) for a in A for na in U - A})\n",
        "print('6.',{(b1,b2) for b1 in B for b2 in B})"
      ]
    },
    {
      "cell_type": "markdown",
      "metadata": {
        "id": "FsVlmUZDnfer"
      },
      "source": [
        "### Sample Solution 3.9"
      ]
    },
    {
      "cell_type": "code",
      "execution_count": null,
      "metadata": {
        "id": "OwV8L8XYnfer"
      },
      "outputs": [],
      "source": [
        "# Sample solution for Exercise 3.9\n",
        "\n",
        "# 1\n",
        "A = {'a', 'b', 'c', 'd', 'e', 'f'}\n",
        "B = {0,1,2,3,4,5}\n",
        "prod = {(a,b) for a in A for b in B}\n",
        "print('1.', *prod)\n",
        "\n",
        "# 2\n",
        "print('2.', len(prod))\n",
        "\n",
        "# Alternatively, use the product function from itertools\n",
        "from itertools import product\n",
        "print('1.', *product(A,B))\n",
        "\n",
        "# 3\n",
        "C = [0,1]\n",
        "prod = [(p1,p2,p3) for p1 in C for p2 in C for p3 in C]\n",
        "print('3.',prod)\n",
        "\n",
        "# 4\n",
        "print('4.', len(prod))"
      ]
    },
    {
      "cell_type": "markdown",
      "metadata": {
        "id": "RSuJuZsYnfer"
      },
      "source": [
        "### Sample Solution 3.10"
      ]
    },
    {
      "cell_type": "markdown",
      "metadata": {
        "id": "cEq11vgbnfer"
      },
      "source": [
        "The evens are disjoint from the odds. No other two sets are pairwise disjoint,\n",
        "because the zero'th power of 2 is 1, an odd number, while every other nonnegative\n",
        "power of 2 is even."
      ]
    },
    {
      "cell_type": "markdown",
      "metadata": {
        "id": "6cLk2i5Bnfer"
      },
      "source": [
        "### Sample Solution 3.11"
      ]
    },
    {
      "cell_type": "markdown",
      "metadata": {
        "id": "i3PqE_cNnfer"
      },
      "source": [
        "{a,b,c}\n",
        "\n",
        "{a}, {b,c}\n",
        "\n",
        "{a,b}, {c}\n",
        "\n",
        "{a,c}, {b}\n",
        "\n",
        "{a}, {b}, {c}"
      ]
    }
  ],
  "metadata": {
    "colab": {
      "collapsed_sections": [
        "HCjgnJwTbbhN"
      ],
      "name": "cse280-homework-03.ipynb",
      "provenance": [],
      "toc_visible": true
    },
    "interpreter": {
      "hash": "1977c1262a5a71e57f8e1e2a9337f4268800bf2d1a595fc1ecb322ccb8b2351d"
    },
    "kernelspec": {
      "display_name": "Python 3.9.0 ('.env': venv)",
      "language": "python",
      "name": "python3"
    },
    "language_info": {
      "codemirror_mode": {
        "name": "ipython",
        "version": 3
      },
      "file_extension": ".py",
      "mimetype": "text/x-python",
      "name": "python",
      "nbconvert_exporter": "python",
      "pygments_lexer": "ipython3",
      "version": "3.9.0"
    }
  },
  "nbformat": 4,
  "nbformat_minor": 0
}